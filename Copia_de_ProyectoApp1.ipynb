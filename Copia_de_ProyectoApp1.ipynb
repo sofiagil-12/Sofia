{
  "nbformat": 4,
  "nbformat_minor": 0,
  "metadata": {
    "kernelspec": {
      "display_name": "Python 3",
      "language": "python",
      "name": "python3"
    },
    "language_info": {
      "codemirror_mode": {
        "name": "ipython",
        "version": 3
      },
      "file_extension": ".py",
      "mimetype": "text/x-python",
      "name": "python",
      "nbconvert_exporter": "python",
      "pygments_lexer": "ipython3",
      "version": "3.7.4"
    },
    "colab": {
      "name": "Copia de ProyectoApp1.ipynb",
      "provenance": [],
      "collapsed_sections": [],
      "include_colab_link": true
    }
  },
  "cells": [
    {
      "cell_type": "markdown",
      "metadata": {
        "id": "view-in-github",
        "colab_type": "text"
      },
      "source": [
        "<a href=\"https://colab.research.google.com/github/sofiagil-12/Sofia/blob/master/Copia_de_ProyectoApp1.ipynb\" target=\"_parent\"><img src=\"https://colab.research.google.com/assets/colab-badge.svg\" alt=\"Open In Colab\"/></a>"
      ]
    },
    {
      "cell_type": "markdown",
      "metadata": {
        "id": "nGlMEtgafVKF",
        "colab_type": "text"
      },
      "source": [
        ""
      ]
    },
    {
      "cell_type": "markdown",
      "metadata": {
        "id": "NBXjkzDifUc6",
        "colab_type": "text"
      },
      "source": [
        ""
      ]
    },
    {
      "cell_type": "markdown",
      "metadata": {
        "id": "wuZMAHEd82aI",
        "colab_type": "text"
      },
      "source": [
        "# Introduccion\n",
        "### Proyecto de Grado, UV\n",
        "\n",
        "#### Veronica Sanz (University of Sussex and Valencia )\n"
      ]
    },
    {
      "cell_type": "code",
      "metadata": {
        "id": "337L8eJwL9FD",
        "colab_type": "code",
        "colab": {}
      },
      "source": [
        "from google.colab import drive\n",
        "drive.mount('/content/drive')"
      ],
      "execution_count": 0,
      "outputs": []
    },
    {
      "cell_type": "markdown",
      "metadata": {
        "id": "0o_fTt6t82aO",
        "colab_type": "text"
      },
      "source": [
        "Make sure you have conda and jupyter installed"
      ]
    },
    {
      "cell_type": "code",
      "metadata": {
        "id": "9ef7d0A_82aS",
        "colab_type": "code",
        "outputId": "164a2962-e55f-4876-cb12-efd6fb92f460",
        "colab": {
          "base_uri": "https://localhost:8080/",
          "height": 35
        }
      },
      "source": [
        "import sys\n",
        "!{sys.executable} -m conda install tensorflow matplotlib ipykernel scikit-learn pandas numpy==1.16.4 --yes\n"
      ],
      "execution_count": 0,
      "outputs": [
        {
          "output_type": "stream",
          "text": [
            "/usr/bin/python3: No module named conda\n"
          ],
          "name": "stdout"
        }
      ]
    },
    {
      "cell_type": "code",
      "metadata": {
        "id": "r3euVJlP82ag",
        "colab_type": "code",
        "colab": {}
      },
      "source": [
        "from matplotlib import pyplot as plt #llamar a pyplot como plt. Es una libreria para dibujar\n",
        "import numpy as np #libreria\n",
        "import pandas as pd #libreria con muchas funciones muy variadas\n",
        "import tensorflow as tf #libreria, estructura basica de construir redes neuronales, tensorflow light\n",
        "# bigger fonts\n",
        "plt.rcParams['font.size'] = 18"
      ],
      "execution_count": 0,
      "outputs": []
    },
    {
      "cell_type": "code",
      "metadata": {
        "id": "OT0S18xV82ar",
        "colab_type": "code",
        "outputId": "e03111d8-daa0-4a48-accb-4b240dae38a7",
        "colab": {
          "base_uri": "https://localhost:8080/",
          "height": 235
        }
      },
      "source": [
        "# check that we have the devices we expect available, comprueba si tenemos gpu(no tenemos)\n",
        "from tensorflow.python.client import device_lib\n",
        "device_lib.list_local_devices()"
      ],
      "execution_count": 0,
      "outputs": [
        {
          "output_type": "execute_result",
          "data": {
            "text/plain": [
              "[name: \"/device:CPU:0\"\n",
              " device_type: \"CPU\"\n",
              " memory_limit: 268435456\n",
              " locality {\n",
              " }\n",
              " incarnation: 3650434449710096993, name: \"/device:XLA_CPU:0\"\n",
              " device_type: \"XLA_CPU\"\n",
              " memory_limit: 17179869184\n",
              " locality {\n",
              " }\n",
              " incarnation: 12630337466330907249\n",
              " physical_device_desc: \"device: XLA_CPU device\"]"
            ]
          },
          "metadata": {
            "tags": []
          },
          "execution_count": 14
        }
      ]
    },
    {
      "cell_type": "markdown",
      "metadata": {
        "id": "LfVuwrq-82ax",
        "colab_type": "text"
      },
      "source": [
        "### Import keras bits and pieces from tensorflow"
      ]
    },
    {
      "cell_type": "code",
      "metadata": {
        "id": "EUsVEfM982az",
        "colab_type": "code",
        "colab": {}
      },
      "source": [
        "# if you have a recent version of tensorflow, keras is included\n",
        "from tensorflow import keras #keras es muy util y esta dentro de tensorflow\n",
        "from tensorflow.keras.datasets import mnist #mnist es una base de datos muy grande que esta incluida en tensorflow\n",
        "from tensorflow.keras.models import Sequential #sequential es una funcion de mnist para crear una red neuronal\n",
        "from tensorflow.keras.layers import Dense, Dropout, Conv2D, MaxPooling2D, Flatten #tipos de capas que le puedes poner a la red neuronal\n",
        "from tensorflow.keras.optimizers import RMSprop #optimizer es el objetivo de la red neuronal, lo que realmente quieres que haga bien"
      ],
      "execution_count": 0,
      "outputs": []
    },
    {
      "cell_type": "markdown",
      "metadata": {
        "id": "L9VbgEnM82a3",
        "colab_type": "text"
      },
      "source": [
        "### Standard dataset: MNIST handwritten digits\n",
        "\n",
        "![MNIST](https://upload.wikimedia.org/wikipedia/commons/2/27/MnistExamples.png \"MNIST\")\n",
        "\n"
      ]
    },
    {
      "cell_type": "code",
      "metadata": {
        "id": "WP8OFaPz82a5",
        "colab_type": "code",
        "outputId": "942ad8ce-a54d-41b0-c781-7f20ac72d71f",
        "colab": {
          "base_uri": "https://localhost:8080/",
          "height": 53
        }
      },
      "source": [
        "# the data, split between train and test sets\n",
        "(x_train, y_train), (x_valtest, y_valtest) = mnist.load_data()"
      ],
      "execution_count": 0,
      "outputs": [
        {
          "output_type": "stream",
          "text": [
            "Downloading data from https://storage.googleapis.com/tensorflow/tf-keras-datasets/mnist.npz\n",
            "11493376/11490434 [==============================] - 0s 0us/step\n"
          ],
          "name": "stdout"
        }
      ]
    },
    {
      "cell_type": "code",
      "metadata": {
        "id": "1D7sHE7882a8",
        "colab_type": "code",
        "colab": {}
      },
      "source": [
        "# demo the effect of noisy data\n",
        "#x_train = (x_train/5 + np.random.poisson(200, size=x_train.shape)).clip(0, 255)\n",
        "#x_valtest = (x_valtest/5 + np.random.poisson(200, size=x_valtest.shape)).clip(0, 255)"
      ],
      "execution_count": 0,
      "outputs": []
    },
    {
      "cell_type": "code",
      "metadata": {
        "id": "3G9sN8a782bB",
        "colab_type": "code",
        "colab": {}
      },
      "source": [
        "# if we wanted to test our model on limited data,\n",
        "# we could reduce the amount of training data like this...\n",
        "#idx = np.random.choice(len(x_train), size=len(x_train)//100)\n",
        "#x_train = x_train[idx]\n",
        "#y_train = y_train[idx]"
      ],
      "execution_count": 0,
      "outputs": []
    },
    {
      "cell_type": "markdown",
      "metadata": {
        "id": "Xj_42lBv82bF",
        "colab_type": "text"
      },
      "source": [
        "### Usually, one splits the data between training, test and validation\n",
        "\n",
        "#### Training Dataset: 80%\n",
        "The sample of data used to fit the model\n",
        "#### Validation Dataset: 10%\n",
        "The sample of data used to provide an unbiased evaluation of a model fit, we use this data to fine-tune the model hyperparameters \n",
        "#### Test Dataset: 10%\n",
        "The sample of data used to provide an unbiased evaluation of a final model fit \n",
        "\n",
        "\n",
        "So it is useful to learn how to split the data (using sklearn)\n",
        "\n",
        "![split](https://miro.medium.com/max/1552/1*Nv2NNALuokZEcV6hYEHdGA.png \"split\")"
      ]
    },
    {
      "cell_type": "code",
      "metadata": {
        "id": "xKjS4qbH82bG",
        "colab_type": "code",
        "colab": {}
      },
      "source": [
        "from sklearn.model_selection import train_test_split #decides que datos son train, validation o test\n",
        "x_test, x_val, y_test, y_val = train_test_split(x_valtest, y_valtest, test_size=0.5)"
      ],
      "execution_count": 0,
      "outputs": []
    },
    {
      "cell_type": "code",
      "metadata": {
        "id": "Or2MFsxy82bI",
        "colab_type": "code",
        "outputId": "604563f4-b582-4dff-b6c6-adbdfa9609ad",
        "colab": {
          "base_uri": "https://localhost:8080/",
          "height": 35
        }
      },
      "source": [
        "x_train.shape, y_train.shape #train 60000 datos"
      ],
      "execution_count": 0,
      "outputs": [
        {
          "output_type": "execute_result",
          "data": {
            "text/plain": [
              "((60000, 28, 28), (60000,))"
            ]
          },
          "metadata": {
            "tags": []
          },
          "execution_count": 21
        }
      ]
    },
    {
      "cell_type": "code",
      "metadata": {
        "id": "09ObFYYK82bN",
        "colab_type": "code",
        "outputId": "0b8631e2-43bd-43f8-9bd8-a5e9c1f23766",
        "colab": {
          "base_uri": "https://localhost:8080/",
          "height": 35
        }
      },
      "source": [
        "x_test.shape, y_test.shape #test 5000 datos"
      ],
      "execution_count": 0,
      "outputs": [
        {
          "output_type": "execute_result",
          "data": {
            "text/plain": [
              "((5000, 28, 28), (5000,))"
            ]
          },
          "metadata": {
            "tags": []
          },
          "execution_count": 22
        }
      ]
    },
    {
      "cell_type": "code",
      "metadata": {
        "id": "HtOlwbji82bP",
        "colab_type": "code",
        "outputId": "351a1f4c-c05c-4672-a454-ba26e22e286b",
        "colab": {
          "base_uri": "https://localhost:8080/",
          "height": 35
        }
      },
      "source": [
        "x_val.shape, y_val.shape #validation 5000 datos"
      ],
      "execution_count": 0,
      "outputs": [
        {
          "output_type": "execute_result",
          "data": {
            "text/plain": [
              "((5000, 28, 28), (5000,))"
            ]
          },
          "metadata": {
            "tags": []
          },
          "execution_count": 23
        }
      ]
    },
    {
      "cell_type": "markdown",
      "metadata": {
        "id": "VF75bQNI82bT",
        "colab_type": "text"
      },
      "source": [
        "### Take a look at the data\n",
        "\n",
        "You should always carefully examine any new dataset\n",
        "This dataset is already curated, but in real-life situations you will spend **a lot of time** trimming and preparing the data"
      ]
    },
    {
      "cell_type": "code",
      "metadata": {
        "id": "nemV8k-qcnGP",
        "colab_type": "code",
        "outputId": "2fbc688b-13b6-44cd-d8dd-28c70c239761",
        "colab": {
          "base_uri": "https://localhost:8080/",
          "height": 294
        }
      },
      "source": [
        "i = 9999\n",
        "plt.imshow(x_train[i], cmap='gray')\n",
        "print('class =', y_train[i]) #te enseña la imagen 3 de tu base de datos"
      ],
      "execution_count": 0,
      "outputs": [
        {
          "output_type": "stream",
          "text": [
            "class = 7\n"
          ],
          "name": "stdout"
        },
        {
          "output_type": "display_data",
          "data": {
            "image/png": "[encoded data removed]",
            "text/plain": [
              "<Figure size 432x288 with 1 Axes>"
            ]
          },
          "metadata": {
            "tags": []
          }
        }
      ]
    },
    {
      "cell_type": "code",
      "metadata": {
        "id": "mqpH5sXZ82bY",
        "colab_type": "code",
        "outputId": "15618279-947f-4665-e558-1eb65c30ebf8",
        "colab": {
          "base_uri": "https://localhost:8080/",
          "height": 294
        }
      },
      "source": [
        "i = 4139\n",
        "plt.imshow(x_train[i], cmap='gray')\n",
        "print('class =', y_train[i]) #te enseña la imagen 4139 de tu base de datos"
      ],
      "execution_count": 0,
      "outputs": [
        {
          "output_type": "stream",
          "text": [
            "class = 8\n"
          ],
          "name": "stdout"
        },
        {
          "output_type": "display_data",
          "data": {
            "image/png": "[encoded data removed]",
            "text/plain": [
              "<Figure size 432x288 with 1 Axes>"
            ]
          },
          "metadata": {
            "tags": []
          }
        }
      ]
    },
    {
      "cell_type": "markdown",
      "metadata": {
        "id": "fe7TtcHC82bc",
        "colab_type": "text"
      },
      "source": [
        "### Prepare the data\n",
        "\n",
        "Remember the y variables (outputs) are in classes from 0 to 9, e.g. y in the previous plot is class = 8\n",
        "\n",
        "**One-hot** changes this simple number (class) to a matrix which contains 0 for all the entries except for 8\n",
        "\n",
        "This is simply implemented using keras utilities"
      ]
    },
    {
      "cell_type": "code",
      "metadata": {
        "id": "D9cv13me82bd",
        "colab_type": "code",
        "colab": {}
      },
      "source": [
        "# convert class vectors to \"one-hot\" class matrices \n",
        "num_classes = 10 #hay 10 numeros diferentes \n",
        "y_train = keras.utils.to_categorical(y_train, num_classes) #estos comandos forman los vectores de 1 uno y 9 ceros\n",
        "y_test = keras.utils.to_categorical(y_test, num_classes)\n",
        "y_val = keras.utils.to_categorical(y_val, num_classes)"
      ],
      "execution_count": 0,
      "outputs": []
    },
    {
      "cell_type": "code",
      "metadata": {
        "id": "2nHYxoGb82bg",
        "colab_type": "code",
        "outputId": "1e63d935-4ad6-4f1a-96e8-f34a7529361b",
        "colab": {
          "base_uri": "https://localhost:8080/",
          "height": 34
        }
      },
      "source": [
        "y_train[i] #guardem la classe d'imatge que tenim en un vector que te un 1 en la posició del numero corresponent i un 0 en la resta, aço es diu one-hot"
      ],
      "execution_count": 0,
      "outputs": [
        {
          "output_type": "execute_result",
          "data": {
            "text/plain": [
              "array([0., 0., 0., 0., 0., 0., 0., 0., 1., 0.], dtype=float32)"
            ]
          },
          "metadata": {
            "tags": []
          },
          "execution_count": 15
        }
      ]
    },
    {
      "cell_type": "markdown",
      "metadata": {
        "id": "CjaMG_r682bk",
        "colab_type": "text"
      },
      "source": [
        "Now the inputs, the images:\n",
        "\n",
        "Take the 28X28 bins of images (=784) with levels of gray 0 to 255 and\n",
        "\n",
        "flatten them in an array and re-scale the content (intensity of gray) from 0 to 1\n",
        "\n",
        "Tenim matrius de 28x28 que en cada posició i que van des de 0 fins a 255(el que marca el grau de gris del pixel)"
      ]
    },
    {
      "cell_type": "code",
      "metadata": {
        "id": "eM4SR4-s82bl",
        "colab_type": "code",
        "colab": {}
      },
      "source": [
        "def process_data(x): #es una funcion que convierte el rango entre 0 i 255 a de 0 a 1, dividiendo todas las entradas entre 255, esto se hace porque sino la maquina se confunde\n",
        "    x = x.reshape(-1, 784) #el problema de esto es que se pierden las distancias relativas, solo hace falta en las redes neuronales normales pero no en las convolutional\n",
        "    x = x.astype('float32')\n",
        "    x /= 255\n",
        "    return x"
      ],
      "execution_count": 0,
      "outputs": []
    },
    {
      "cell_type": "code",
      "metadata": {
        "id": "DYJPZm_s82bq",
        "colab_type": "code",
        "colab": {}
      },
      "source": [
        "x_train = process_data(x_train)\n",
        "x_test = process_data(x_test)\n",
        "x_val = process_data(x_val)"
      ],
      "execution_count": 0,
      "outputs": []
    },
    {
      "cell_type": "code",
      "metadata": {
        "id": "AJ02ZL2r82bu",
        "colab_type": "code",
        "outputId": "9b7edca6-5063-4bab-9075-39b9d487404e",
        "colab": {
          "base_uri": "https://localhost:8080/",
          "height": 68
        }
      },
      "source": [
        "print(x_train.shape[0], 'train samples')\n",
        "print(x_test.shape[0], 'test samples')\n",
        "print(x_val.shape[0], 'validation samples')"
      ],
      "execution_count": 0,
      "outputs": [
        {
          "output_type": "stream",
          "text": [
            "60000 train samples\n",
            "5000 test samples\n",
            "5000 validation samples\n"
          ],
          "name": "stdout"
        }
      ]
    },
    {
      "cell_type": "code",
      "metadata": {
        "id": "evEb_ayD82bz",
        "colab_type": "code",
        "outputId": "00ffdc00-9800-44ba-cde4-ee37290ec8dc",
        "colab": {
          "base_uri": "https://localhost:8080/",
          "height": 290
        }
      },
      "source": [
        "plt.plot(x_train[3])\n"
      ],
      "execution_count": 0,
      "outputs": [
        {
          "output_type": "execute_result",
          "data": {
            "text/plain": [
              "[<matplotlib.lines.Line2D at 0x7f3732fec2e8>]"
            ]
          },
          "metadata": {
            "tags": []
          },
          "execution_count": 19
        },
        {
          "output_type": "display_data",
          "data": {
            "image/png": "[encoded data removed]",
            "text/plain": [
              "<Figure size 432x288 with 1 Axes>"
            ]
          },
          "metadata": {
            "tags": []
          }
        }
      ]
    },
    {
      "cell_type": "code",
      "metadata": {
        "id": "YUJRHMyR82b2",
        "colab_type": "code",
        "outputId": "18ebe6bd-2b38-4cac-e143-642f9a079b4b",
        "colab": {
          "base_uri": "https://localhost:8080/",
          "height": 290
        }
      },
      "source": [
        "plt.plot(x_train[4139])"
      ],
      "execution_count": 0,
      "outputs": [
        {
          "output_type": "execute_result",
          "data": {
            "text/plain": [
              "[<matplotlib.lines.Line2D at 0x7f3732f4c470>]"
            ]
          },
          "metadata": {
            "tags": []
          },
          "execution_count": 20
        },
        {
          "output_type": "display_data",
          "data": {
            "image/png": "[encoded data removed]",
            "text/plain": [
              "<Figure size 432x288 with 1 Axes>"
            ]
          },
          "metadata": {
            "tags": []
          }
        }
      ]
    },
    {
      "cell_type": "markdown",
      "metadata": {
        "id": "OJa4kMtR82b5",
        "colab_type": "text"
      },
      "source": [
        "## Let's start with a simple NN: fully connected NN \n",
        "\n",
        "fully connected quiere decir que todas las neuronas de una capa conectan con todas las neuronas de la siguiente capa, aunque luego esa informacion no se transmita porque el peso es 0"
      ]
    },
    {
      "cell_type": "markdown",
      "metadata": {
        "id": "fnEd3r0982b5",
        "colab_type": "text"
      },
      "source": [
        "### Build the NN"
      ]
    },
    {
      "cell_type": "code",
      "metadata": {
        "id": "bJf5qf9382b6",
        "colab_type": "code",
        "outputId": "5636d694-0977-43ee-9566-911540a7c9e8",
        "colab": {
          "base_uri": "https://localhost:8080/",
          "height": 88
        }
      },
      "source": [
        "# Sequential means you can build a DNN layer by layer\n",
        "fcmodel = Sequential() #fcmodel es como le llamo a la red neuronal y es de tipo sequential\n",
        "# Dense has as arguments: \n",
        "#  number of neurons, type of activation function, and the input needs to match the output of the previous layer\n",
        "#  input_shape=(N_features,) where N_features = 28*28\n",
        "fcmodel.add(Dense(32, activation='relu', input_shape=(784,))) #construyo fcmodel poniendo tres capas. Capa 1\n",
        "# we add a second layer\n",
        "fcmodel.add(Dense(32, activation='relu')) #capa 2\n",
        "# could include dropout, regularisation, ...\n",
        "fcmodel.add(Dense(num_classes, activation='softmax')) #capa 3. Num classes es 10, el numero de clases que quieres tener."
      ],
      "execution_count": 0,
      "outputs": [
        {
          "output_type": "stream",
          "text": [
            "WARNING:tensorflow:From /usr/local/lib/python3.6/dist-packages/tensorflow_core/python/ops/resource_variable_ops.py:1630: calling BaseResourceVariable.__init__ (from tensorflow.python.ops.resource_variable_ops) with constraint is deprecated and will be removed in a future version.\n",
            "Instructions for updating:\n",
            "If using Keras pass *_constraint arguments to layers.\n"
          ],
          "name": "stdout"
        }
      ]
    },
    {
      "cell_type": "code",
      "metadata": {
        "id": "j98q6UJv82b9",
        "colab_type": "code",
        "outputId": "8e39f2fe-8f68-4699-87a9-2327ca199b62",
        "colab": {
          "base_uri": "https://localhost:8080/",
          "height": 255
        }
      },
      "source": [
        "fcmodel.summary() #resumen de la red neuronal"
      ],
      "execution_count": 0,
      "outputs": [
        {
          "output_type": "stream",
          "text": [
            "Model: \"sequential\"\n",
            "_________________________________________________________________\n",
            "Layer (type)                 Output Shape              Param #   \n",
            "=================================================================\n",
            "dense (Dense)                (None, 32)                25120     \n",
            "_________________________________________________________________\n",
            "dense_1 (Dense)              (None, 32)                1056      \n",
            "_________________________________________________________________\n",
            "dense_2 (Dense)              (None, 10)                330       \n",
            "=================================================================\n",
            "Total params: 26,506\n",
            "Trainable params: 26,506\n",
            "Non-trainable params: 0\n",
            "_________________________________________________________________\n"
          ],
          "name": "stdout"
        }
      ]
    },
    {
      "cell_type": "markdown",
      "metadata": {
        "id": "OMMBIohQ82cA",
        "colab_type": "text"
      },
      "source": [
        "Next, we choose the loss function according to which we will train the DNN \n",
        "\n",
        "For classification problems, this is usually the cross-entropy, and since the output data was cast in categorical\n",
        "form, we choose the categorical_crossentropy defined in Keras’ losses module \n",
        "\n",
        "To optimize the weights of the net, we use SGD (Stochastic Gradient Descent) or other typical choices are RMSprop or Adam\n",
        "\n",
        "The parameters for the optimizer, such as lr (learning rate) or momentum are passed using the corresponding optional arguments of the SGD() function"
      ]
    },
    {
      "cell_type": "code",
      "metadata": {
        "id": "llchcz5k82cB",
        "colab_type": "code",
        "colab": {}
      },
      "source": [
        "fcmodel.compile(loss='categorical_crossentropy', #funcion sobre como clasificar cosas???\n",
        "                optimizer=RMSprop(), #lo optimizas en funcion del error cuadratico medio\n",
        "                metrics=['accuracy']) #te devuelte la precision"
      ],
      "execution_count": 0,
      "outputs": []
    },
    {
      "cell_type": "markdown",
      "metadata": {
        "id": "-n-0nsvT82cD",
        "colab_type": "text"
      },
      "source": [
        "### Train the NN"
      ]
    },
    {
      "cell_type": "markdown",
      "metadata": {
        "id": "UdqcR9M282cD",
        "colab_type": "text"
      },
      "source": [
        "The **batch size** defines the number of samples that will be propagated through the network.\n",
        "\n",
        "We have 60000 training samples and we set up a batch_size equal to 32. The algorithm takes the first 32 samples from the training dataset and trains the network. Next, it takes the second batch and trains the network again, and keep with this procedure until we have propagated all samples through of the network. \n",
        "\n",
        "**Training epochs** defines the number times that the learning algorithm will work through the entire training dataset.\n"
      ]
    },
    {
      "cell_type": "code",
      "metadata": {
        "id": "33YO9tzU82cG",
        "colab_type": "code",
        "colab": {}
      },
      "source": [
        "batch_size = 32 #a la red neuronal solo le metes la 32ava parte de vuestros datos cada vez\n",
        "epochs = 50 #el numero de veces que pasas TODOS los datos (50 veces cada 32ava parte)"
      ],
      "execution_count": 0,
      "outputs": []
    },
    {
      "cell_type": "code",
      "metadata": {
        "id": "9zkHg47H82cI",
        "colab_type": "code",
        "outputId": "c56f8822-6fd6-4a60-cfdc-189e186cc60d",
        "colab": {
          "base_uri": "https://localhost:8080/",
          "height": 1000
        }
      },
      "source": [
        "# training the NN\n",
        "history = fcmodel.fit(x_train, y_train,\n",
        "                      batch_size=batch_size,\n",
        "                      epochs=epochs,\n",
        "                      verbose=1,\n",
        "                      validation_data=(x_test, y_test))"
      ],
      "execution_count": 0,
      "outputs": [
        {
          "output_type": "stream",
          "text": [
            "Train on 60000 samples, validate on 5000 samples\n",
            "Epoch 1/50\n",
            "60000/60000 [==============================] - 3s 53us/sample - loss: 0.3436 - acc: 0.9008 - val_loss: 0.2024 - val_acc: 0.9418\n",
            "Epoch 2/50\n",
            "60000/60000 [==============================] - 3s 48us/sample - loss: 0.1873 - acc: 0.9457 - val_loss: 0.1492 - val_acc: 0.9546\n",
            "Epoch 3/50\n",
            "60000/60000 [==============================] - 3s 48us/sample - loss: 0.1512 - acc: 0.9555 - val_loss: 0.1292 - val_acc: 0.9618\n",
            "Epoch 4/50\n",
            "60000/60000 [==============================] - 3s 49us/sample - loss: 0.1290 - acc: 0.9628 - val_loss: 0.1262 - val_acc: 0.9662\n",
            "Epoch 5/50\n",
            "60000/60000 [==============================] - 3s 49us/sample - loss: 0.1160 - acc: 0.9661 - val_loss: 0.1109 - val_acc: 0.9682\n",
            "Epoch 6/50\n",
            "60000/60000 [==============================] - 3s 49us/sample - loss: 0.1056 - acc: 0.9698 - val_loss: 0.1182 - val_acc: 0.9674\n",
            "Epoch 7/50\n",
            "60000/60000 [==============================] - 3s 52us/sample - loss: 0.0974 - acc: 0.9725 - val_loss: 0.1075 - val_acc: 0.9712\n",
            "Epoch 8/50\n",
            "60000/60000 [==============================] - 3s 51us/sample - loss: 0.0924 - acc: 0.9746 - val_loss: 0.1062 - val_acc: 0.9704\n",
            "Epoch 9/50\n",
            "60000/60000 [==============================] - 3s 48us/sample - loss: 0.0859 - acc: 0.9761 - val_loss: 0.1224 - val_acc: 0.9676\n",
            "Epoch 10/50\n",
            "60000/60000 [==============================] - 3s 48us/sample - loss: 0.0815 - acc: 0.9771 - val_loss: 0.1111 - val_acc: 0.9704\n",
            "Epoch 11/50\n",
            "60000/60000 [==============================] - 3s 49us/sample - loss: 0.0763 - acc: 0.9786 - val_loss: 0.1079 - val_acc: 0.9738\n",
            "Epoch 12/50\n",
            "60000/60000 [==============================] - 3s 50us/sample - loss: 0.0734 - acc: 0.9798 - val_loss: 0.1176 - val_acc: 0.9728\n",
            "Epoch 13/50\n",
            "60000/60000 [==============================] - 3s 49us/sample - loss: 0.0701 - acc: 0.9805 - val_loss: 0.1145 - val_acc: 0.9722\n",
            "Epoch 14/50\n",
            "60000/60000 [==============================] - 3s 48us/sample - loss: 0.0668 - acc: 0.9809 - val_loss: 0.1050 - val_acc: 0.9724\n",
            "Epoch 15/50\n",
            "60000/60000 [==============================] - 3s 48us/sample - loss: 0.0651 - acc: 0.9821 - val_loss: 0.1286 - val_acc: 0.9710\n",
            "Epoch 16/50\n",
            "60000/60000 [==============================] - 3s 48us/sample - loss: 0.0627 - acc: 0.9827 - val_loss: 0.1302 - val_acc: 0.9732\n",
            "Epoch 17/50\n",
            "60000/60000 [==============================] - 3s 49us/sample - loss: 0.0610 - acc: 0.9833 - val_loss: 0.1328 - val_acc: 0.9698\n",
            "Epoch 18/50\n",
            "60000/60000 [==============================] - 3s 49us/sample - loss: 0.0592 - acc: 0.9836 - val_loss: 0.1328 - val_acc: 0.9728\n",
            "Epoch 19/50\n",
            "60000/60000 [==============================] - 3s 48us/sample - loss: 0.0572 - acc: 0.9844 - val_loss: 0.1463 - val_acc: 0.9692\n",
            "Epoch 20/50\n",
            "60000/60000 [==============================] - 3s 49us/sample - loss: 0.0567 - acc: 0.9842 - val_loss: 0.1340 - val_acc: 0.9730\n",
            "Epoch 21/50\n",
            "60000/60000 [==============================] - 3s 49us/sample - loss: 0.0533 - acc: 0.9861 - val_loss: 0.1408 - val_acc: 0.9674\n",
            "Epoch 22/50\n",
            "60000/60000 [==============================] - 3s 49us/sample - loss: 0.0519 - acc: 0.9863 - val_loss: 0.1465 - val_acc: 0.9728\n",
            "Epoch 23/50\n",
            "60000/60000 [==============================] - 3s 48us/sample - loss: 0.0519 - acc: 0.9860 - val_loss: 0.1587 - val_acc: 0.9704\n",
            "Epoch 24/50\n",
            "60000/60000 [==============================] - 3s 47us/sample - loss: 0.0506 - acc: 0.9868 - val_loss: 0.1502 - val_acc: 0.9708\n",
            "Epoch 25/50\n",
            "60000/60000 [==============================] - 3s 50us/sample - loss: 0.0487 - acc: 0.9871 - val_loss: 0.1436 - val_acc: 0.9716\n",
            "Epoch 26/50\n",
            "60000/60000 [==============================] - 3s 49us/sample - loss: 0.0475 - acc: 0.9871 - val_loss: 0.1567 - val_acc: 0.9722\n",
            "Epoch 27/50\n",
            "60000/60000 [==============================] - 3s 49us/sample - loss: 0.0461 - acc: 0.9875 - val_loss: 0.1616 - val_acc: 0.9716\n",
            "Epoch 28/50\n",
            "60000/60000 [==============================] - 3s 49us/sample - loss: 0.0446 - acc: 0.9885 - val_loss: 0.1752 - val_acc: 0.9694\n",
            "Epoch 29/50\n",
            "60000/60000 [==============================] - 3s 48us/sample - loss: 0.0435 - acc: 0.9876 - val_loss: 0.1580 - val_acc: 0.9720\n",
            "Epoch 30/50\n",
            "60000/60000 [==============================] - 3s 48us/sample - loss: 0.0427 - acc: 0.9883 - val_loss: 0.1817 - val_acc: 0.9708\n",
            "Epoch 31/50\n",
            "60000/60000 [==============================] - 3s 50us/sample - loss: 0.0423 - acc: 0.9890 - val_loss: 0.1834 - val_acc: 0.9702\n",
            "Epoch 32/50\n",
            "60000/60000 [==============================] - 3s 49us/sample - loss: 0.0413 - acc: 0.9888 - val_loss: 0.1939 - val_acc: 0.9708\n",
            "Epoch 33/50\n",
            "60000/60000 [==============================] - 3s 49us/sample - loss: 0.0397 - acc: 0.9892 - val_loss: 0.1988 - val_acc: 0.9708\n",
            "Epoch 34/50\n",
            "60000/60000 [==============================] - 3s 49us/sample - loss: 0.0388 - acc: 0.9900 - val_loss: 0.2147 - val_acc: 0.9706\n",
            "Epoch 35/50\n",
            "60000/60000 [==============================] - 3s 49us/sample - loss: 0.0382 - acc: 0.9897 - val_loss: 0.2142 - val_acc: 0.9714\n",
            "Epoch 36/50\n",
            "60000/60000 [==============================] - 3s 48us/sample - loss: 0.0375 - acc: 0.9898 - val_loss: 0.2072 - val_acc: 0.9682\n",
            "Epoch 37/50\n",
            "60000/60000 [==============================] - 3s 48us/sample - loss: 0.0369 - acc: 0.9899 - val_loss: 0.2114 - val_acc: 0.9664\n",
            "Epoch 38/50\n",
            "60000/60000 [==============================] - 3s 49us/sample - loss: 0.0355 - acc: 0.9908 - val_loss: 0.2035 - val_acc: 0.9674\n",
            "Epoch 39/50\n",
            "60000/60000 [==============================] - 3s 48us/sample - loss: 0.0353 - acc: 0.9908 - val_loss: 0.2156 - val_acc: 0.9694\n",
            "Epoch 40/50\n",
            "60000/60000 [==============================] - 3s 49us/sample - loss: 0.0351 - acc: 0.9909 - val_loss: 0.2013 - val_acc: 0.9708\n",
            "Epoch 41/50\n",
            "60000/60000 [==============================] - 3s 49us/sample - loss: 0.0336 - acc: 0.9912 - val_loss: 0.2284 - val_acc: 0.9694\n",
            "Epoch 42/50\n",
            "60000/60000 [==============================] - 3s 48us/sample - loss: 0.0335 - acc: 0.9909 - val_loss: 0.2484 - val_acc: 0.9678\n",
            "Epoch 43/50\n",
            "60000/60000 [==============================] - 3s 49us/sample - loss: 0.0320 - acc: 0.9912 - val_loss: 0.2493 - val_acc: 0.9696\n",
            "Epoch 44/50\n",
            "60000/60000 [==============================] - 3s 48us/sample - loss: 0.0326 - acc: 0.9915 - val_loss: 0.2513 - val_acc: 0.9678\n",
            "Epoch 45/50\n",
            "60000/60000 [==============================] - 3s 49us/sample - loss: 0.0325 - acc: 0.9918 - val_loss: 0.2742 - val_acc: 0.9660\n",
            "Epoch 46/50\n",
            "60000/60000 [==============================] - 3s 49us/sample - loss: 0.0308 - acc: 0.9915 - val_loss: 0.2719 - val_acc: 0.9670\n",
            "Epoch 47/50\n",
            "60000/60000 [==============================] - 3s 49us/sample - loss: 0.0291 - acc: 0.9924 - val_loss: 0.2588 - val_acc: 0.9670\n",
            "Epoch 48/50\n",
            "60000/60000 [==============================] - 3s 49us/sample - loss: 0.0293 - acc: 0.9924 - val_loss: 0.2916 - val_acc: 0.9662\n",
            "Epoch 49/50\n",
            "60000/60000 [==============================] - 3s 49us/sample - loss: 0.0278 - acc: 0.9928 - val_loss: 0.2859 - val_acc: 0.9648\n",
            "Epoch 50/50\n",
            "60000/60000 [==============================] - 3s 49us/sample - loss: 0.0295 - acc: 0.9926 - val_loss: 0.2839 - val_acc: 0.9664\n"
          ],
          "name": "stdout"
        }
      ]
    },
    {
      "cell_type": "code",
      "metadata": {
        "id": "8cQPCwLl82cK",
        "colab_type": "code",
        "outputId": "19797ce6-f087-431e-cb8c-5a98cc2f0988",
        "colab": {
          "base_uri": "https://localhost:8080/",
          "height": 51
        }
      },
      "source": [
        "score = fcmodel.evaluate(x_test, y_test, verbose=0)\n",
        "print('Test loss:', score[0])\n",
        "print('Test accuracy:', score[1]) #precision de los datos"
      ],
      "execution_count": 0,
      "outputs": [
        {
          "output_type": "stream",
          "text": [
            "Test loss: 0.283901834397245\n",
            "Test accuracy: 0.9664\n"
          ],
          "name": "stdout"
        }
      ]
    },
    {
      "cell_type": "code",
      "metadata": {
        "id": "6Ti5rYtG82cM",
        "colab_type": "code",
        "outputId": "10299d4b-0016-4c0a-af91-83f703e1188d",
        "colab": {
          "base_uri": "https://localhost:8080/",
          "height": 51
        }
      },
      "source": [
        "# in principle, we should not look at the score for this set of data\n",
        "# until we have finished tuning our model\n",
        "score = fcmodel.evaluate(x_val, y_val, verbose=0)\n",
        "print('Test loss:', score[0])\n",
        "print('Test accuracy:', score[1])"
      ],
      "execution_count": 0,
      "outputs": [
        {
          "output_type": "stream",
          "text": [
            "Test loss: 0.3629212053950061\n",
            "Test accuracy: 0.9624\n"
          ],
          "name": "stdout"
        }
      ]
    },
    {
      "cell_type": "code",
      "metadata": {
        "id": "HyUFiM1I82cO",
        "colab_type": "code",
        "colab": {}
      },
      "source": [
        "def histplot(history):\n",
        "    hist = pd.DataFrame(history.history)\n",
        "    fig, (ax1, ax2) = plt.subplots(1, 2, figsize=(15, 5))\n",
        "    hist.plot(y=['loss', 'val_loss'], ax=ax1)\n",
        "    min_loss = hist['val_loss'].min()\n",
        "    ax1.hlines(min_loss, 0, len(hist), linestyle='dotted',\n",
        "               label='min(val_loss) = {:.3f}'.format(min_loss))\n",
        "    ax1.legend(loc='upper right')\n",
        "    hist.plot(y=['acc', 'val_acc'], ax=ax2)\n",
        "    max_acc = hist['val_acc'].max()\n",
        "    ax2.hlines(max_acc, 0, len(hist), linestyle='dotted',\n",
        "               label='max(val_acc) = {:.3f}'.format(max_acc))\n",
        "    ax2.legend(loc='lower right', fontsize='large')"
      ],
      "execution_count": 0,
      "outputs": []
    },
    {
      "cell_type": "code",
      "metadata": {
        "id": "uaCAAYkd82cQ",
        "colab_type": "code",
        "outputId": "cea3660f-e171-4763-a674-4aa6f6361d96",
        "colab": {
          "base_uri": "https://localhost:8080/",
          "height": 328
        }
      },
      "source": [
        "histplot(history)"
      ],
      "execution_count": 0,
      "outputs": [
        {
          "output_type": "display_data",
          "data": {
            "image/png": "[encoded data removed]",
            "text/plain": [
              "<Figure size 1080x360 with 2 Axes>"
            ]
          },
          "metadata": {
            "tags": []
          }
        }
      ]
    },
    {
      "cell_type": "markdown",
      "metadata": {
        "id": "8uNmrSqh82cS",
        "colab_type": "text"
      },
      "source": [
        "## Now let's use a Convolutional Neural Network (CNN)"
      ]
    },
    {
      "cell_type": "markdown",
      "metadata": {
        "id": "f1TmbR9D82cT",
        "colab_type": "text"
      },
      "source": [
        "### We need to reshape the data  "
      ]
    },
    {
      "cell_type": "code",
      "metadata": {
        "id": "7Lax8-Y982cU",
        "colab_type": "code",
        "colab": {}
      },
      "source": [
        "x_train = x_train.reshape(-1, 28, 28, 1)\n",
        "x_test = x_test.reshape(-1, 28, 28, 1)"
      ],
      "execution_count": 0,
      "outputs": []
    },
    {
      "cell_type": "code",
      "metadata": {
        "id": "B55ZrIVO82cW",
        "colab_type": "code",
        "outputId": "c4072016-b170-4466-8c8f-5f8f3ad37e66",
        "colab": {
          "base_uri": "https://localhost:8080/",
          "height": 34
        }
      },
      "source": [
        "x_train.shape"
      ],
      "execution_count": 0,
      "outputs": [
        {
          "output_type": "execute_result",
          "data": {
            "text/plain": [
              "(60000, 28, 28, 1)"
            ]
          },
          "metadata": {
            "tags": []
          },
          "execution_count": 31
        }
      ]
    },
    {
      "cell_type": "markdown",
      "metadata": {
        "id": "cZLbYJM782cZ",
        "colab_type": "text"
      },
      "source": [
        "###  Construct the network"
      ]
    },
    {
      "cell_type": "code",
      "metadata": {
        "id": "FEF4u8BX82cZ",
        "colab_type": "code",
        "colab": {}
      },
      "source": [
        "# a fairly small network for speed\n",
        "cnnmodel = Sequential()\n",
        "cnnmodel.add(Conv2D(8, (3, 3), activation='relu', input_shape=(28, 28, 1)))\n",
        "cnnmodel.add(MaxPooling2D((3, 3)))\n",
        "cnnmodel.add(Conv2D(16, (3, 3), activation='relu'))\n",
        "cnnmodel.add(MaxPooling2D((2, 2)))\n",
        "cnnmodel.add(Flatten())\n",
        "cnnmodel.add(Dense(num_classes, activation='softmax'))\n",
        "# could include dropout, regularisation, ..."
      ],
      "execution_count": 0,
      "outputs": []
    },
    {
      "cell_type": "code",
      "metadata": {
        "id": "q7gy8IdW82cb",
        "colab_type": "code",
        "colab": {}
      },
      "source": [
        "cnnmodel.compile(loss='categorical_crossentropy',\n",
        "                optimizer=RMSprop(),\n",
        "                metrics=['accuracy'])"
      ],
      "execution_count": 0,
      "outputs": []
    },
    {
      "cell_type": "code",
      "metadata": {
        "id": "-o6ogzsX82cc",
        "colab_type": "code",
        "outputId": "75adaaec-96a9-4147-e338-bc038b5775e2",
        "colab": {
          "base_uri": "https://localhost:8080/",
          "height": 357
        }
      },
      "source": [
        "cnnmodel.summary()"
      ],
      "execution_count": 0,
      "outputs": [
        {
          "output_type": "stream",
          "text": [
            "Model: \"sequential_1\"\n",
            "_________________________________________________________________\n",
            "Layer (type)                 Output Shape              Param #   \n",
            "=================================================================\n",
            "conv2d (Conv2D)              (None, 26, 26, 8)         80        \n",
            "_________________________________________________________________\n",
            "max_pooling2d (MaxPooling2D) (None, 8, 8, 8)           0         \n",
            "_________________________________________________________________\n",
            "conv2d_1 (Conv2D)            (None, 6, 6, 16)          1168      \n",
            "_________________________________________________________________\n",
            "max_pooling2d_1 (MaxPooling2 (None, 3, 3, 16)          0         \n",
            "_________________________________________________________________\n",
            "flatten (Flatten)            (None, 144)               0         \n",
            "_________________________________________________________________\n",
            "dense_3 (Dense)              (None, 10)                1450      \n",
            "=================================================================\n",
            "Total params: 2,698\n",
            "Trainable params: 2,698\n",
            "Non-trainable params: 0\n",
            "_________________________________________________________________\n"
          ],
          "name": "stdout"
        }
      ]
    },
    {
      "cell_type": "code",
      "metadata": {
        "id": "i-8NUDKG82cf",
        "colab_type": "code",
        "colab": {}
      },
      "source": [
        "# save weights for reinitialising below\n",
        "cnnmodel.save_weights('/tmp/cnnmodel_init_weights.tf')"
      ],
      "execution_count": 0,
      "outputs": []
    },
    {
      "cell_type": "markdown",
      "metadata": {
        "id": "CAsEHN3182ch",
        "colab_type": "text"
      },
      "source": [
        "### Train the CNN"
      ]
    },
    {
      "cell_type": "code",
      "metadata": {
        "id": "0sdIoCt482ci",
        "colab_type": "code",
        "outputId": "b2ffbac4-5df5-4002-9d74-dc6127084b5c",
        "colab": {
          "base_uri": "https://localhost:8080/",
          "height": 510
        }
      },
      "source": [
        "history = cnnmodel.fit(x_train, y_train,\n",
        "                       batch_size=batch_size, \n",
        "                       epochs=3*epochs,\n",
        "                       verbose=1,\n",
        "                       validation_data=(x_test, y_test))"
      ],
      "execution_count": 0,
      "outputs": [
        {
          "output_type": "stream",
          "text": [
            "Train on 60000 samples, validate on 5000 samples\n",
            "Epoch 1/150\n",
            "60000/60000 [==============================] - 19s 320us/sample - loss: 0.3828 - acc: 0.8879 - val_loss: 0.1333 - val_acc: 0.9578\n",
            "Epoch 2/150\n",
            "60000/60000 [==============================] - 19s 316us/sample - loss: 0.1357 - acc: 0.9580 - val_loss: 0.0891 - val_acc: 0.9732\n",
            "Epoch 3/150\n",
            "60000/60000 [==============================] - 19s 314us/sample - loss: 0.1057 - acc: 0.9676 - val_loss: 0.0783 - val_acc: 0.9764\n",
            "Epoch 4/150\n",
            "60000/60000 [==============================] - 19s 314us/sample - loss: 0.0899 - acc: 0.9719 - val_loss: 0.0613 - val_acc: 0.9810\n",
            "Epoch 5/150\n",
            "60000/60000 [==============================] - 19s 321us/sample - loss: 0.0800 - acc: 0.9756 - val_loss: 0.0695 - val_acc: 0.9784\n",
            "Epoch 6/150\n",
            "60000/60000 [==============================] - 19s 313us/sample - loss: 0.0725 - acc: 0.9775 - val_loss: 0.0574 - val_acc: 0.9838\n",
            "Epoch 7/150\n",
            "60000/60000 [==============================] - 19s 315us/sample - loss: 0.0674 - acc: 0.9791 - val_loss: 0.0583 - val_acc: 0.9830\n",
            "Epoch 8/150\n",
            "60000/60000 [==============================] - 19s 311us/sample - loss: 0.0628 - acc: 0.9805 - val_loss: 0.0521 - val_acc: 0.9832\n",
            "Epoch 9/150\n",
            "60000/60000 [==============================] - 19s 311us/sample - loss: 0.0595 - acc: 0.9813 - val_loss: 0.0491 - val_acc: 0.9830\n",
            "Epoch 10/150\n",
            "60000/60000 [==============================] - 19s 316us/sample - loss: 0.0568 - acc: 0.9829 - val_loss: 0.0428 - val_acc: 0.9876\n",
            "Epoch 11/150\n",
            "60000/60000 [==============================] - 19s 310us/sample - loss: 0.0538 - acc: 0.9836 - val_loss: 0.0479 - val_acc: 0.9860\n",
            "Epoch 12/150\n",
            "60000/60000 [==============================] - 19s 312us/sample - loss: 0.0512 - acc: 0.9845 - val_loss: 0.0554 - val_acc: 0.9826\n",
            "Epoch 13/150\n",
            "60000/60000 [==============================] - 19s 313us/sample - loss: 0.0499 - acc: 0.9843 - val_loss: 0.0398 - val_acc: 0.9884\n",
            "Epoch 14/150\n",
            "60000/60000 [==============================] - 19s 311us/sample - loss: 0.0477 - acc: 0.9855 - val_loss: 0.0364 - val_acc: 0.9886\n",
            "Epoch 15/150\n",
            "60000/60000 [==============================] - 19s 311us/sample - loss: 0.0463 - acc: 0.9857 - val_loss: 0.0410 - val_acc: 0.9868\n",
            "Epoch 16/150\n",
            "60000/60000 [==============================] - 19s 312us/sample - loss: 0.0441 - acc: 0.9864 - val_loss: 0.0359 - val_acc: 0.9882\n",
            "Epoch 17/150\n",
            "60000/60000 [==============================] - 19s 310us/sample - loss: 0.0432 - acc: 0.9868 - val_loss: 0.0487 - val_acc: 0.9846\n",
            "Epoch 18/150\n",
            "60000/60000 [==============================] - 19s 312us/sample - loss: 0.0420 - acc: 0.9876 - val_loss: 0.0397 - val_acc: 0.9880\n",
            "Epoch 19/150\n",
            "60000/60000 [==============================] - 19s 310us/sample - loss: 0.0413 - acc: 0.9876 - val_loss: 0.0433 - val_acc: 0.9852\n",
            "Epoch 20/150\n",
            "60000/60000 [==============================] - 19s 312us/sample - loss: 0.0398 - acc: 0.9880 - val_loss: 0.0425 - val_acc: 0.9854\n",
            "Epoch 21/150\n",
            "60000/60000 [==============================] - 19s 317us/sample - loss: 0.0394 - acc: 0.9879 - val_loss: 0.0388 - val_acc: 0.9872\n",
            "Epoch 22/150\n",
            "60000/60000 [==============================] - 19s 315us/sample - loss: 0.0385 - acc: 0.9886 - val_loss: 0.0415 - val_acc: 0.9862\n",
            "Epoch 23/150\n",
            "60000/60000 [==============================] - 19s 315us/sample - loss: 0.0373 - acc: 0.9887 - val_loss: 0.0386 - val_acc: 0.9890\n",
            "Epoch 24/150\n",
            "60000/60000 [==============================] - 19s 314us/sample - loss: 0.0367 - acc: 0.9891 - val_loss: 0.0347 - val_acc: 0.9892\n",
            "Epoch 25/150\n",
            "60000/60000 [==============================] - 19s 314us/sample - loss: 0.0358 - acc: 0.9893 - val_loss: 0.0395 - val_acc: 0.9890\n",
            "Epoch 26/150\n",
            "60000/60000 [==============================] - 19s 322us/sample - loss: 0.0351 - acc: 0.9894 - val_loss: 0.0383 - val_acc: 0.9892\n",
            "Epoch 27/150\n",
            "60000/60000 [==============================] - 19s 313us/sample - loss: 0.0342 - acc: 0.9898 - val_loss: 0.0404 - val_acc: 0.9878\n",
            "Epoch 28/150\n",
            "60000/60000 [==============================] - 19s 314us/sample - loss: 0.0344 - acc: 0.9894 - val_loss: 0.0377 - val_acc: 0.9886\n",
            "Epoch 29/150\n",
            "60000/60000 [==============================] - 19s 317us/sample - loss: 0.0335 - acc: 0.9899 - val_loss: 0.0393 - val_acc: 0.9862\n",
            "Epoch 30/150\n",
            "60000/60000 [==============================] - 19s 315us/sample - loss: 0.0324 - acc: 0.9901 - val_loss: 0.0378 - val_acc: 0.9892\n",
            "Epoch 31/150\n",
            "60000/60000 [==============================] - 19s 316us/sample - loss: 0.0323 - acc: 0.9907 - val_loss: 0.0385 - val_acc: 0.9880\n",
            "Epoch 32/150\n",
            "60000/60000 [==============================] - 19s 323us/sample - loss: 0.0315 - acc: 0.9908 - val_loss: 0.0360 - val_acc: 0.9880\n",
            "Epoch 33/150\n",
            "60000/60000 [==============================] - 19s 320us/sample - loss: 0.0313 - acc: 0.9910 - val_loss: 0.0362 - val_acc: 0.9902\n",
            "Epoch 34/150\n",
            "60000/60000 [==============================] - 19s 318us/sample - loss: 0.0311 - acc: 0.9911 - val_loss: 0.0419 - val_acc: 0.9874\n",
            "Epoch 35/150\n",
            "60000/60000 [==============================] - 19s 319us/sample - loss: 0.0302 - acc: 0.9912 - val_loss: 0.0391 - val_acc: 0.9888\n",
            "Epoch 36/150\n",
            "60000/60000 [==============================] - 19s 319us/sample - loss: 0.0298 - acc: 0.9908 - val_loss: 0.0360 - val_acc: 0.9880\n",
            "Epoch 37/150\n",
            "60000/60000 [==============================] - 19s 321us/sample - loss: 0.0289 - acc: 0.9915 - val_loss: 0.0363 - val_acc: 0.9888\n",
            "Epoch 38/150\n",
            "60000/60000 [==============================] - 20s 327us/sample - loss: 0.0286 - acc: 0.9918 - val_loss: 0.0377 - val_acc: 0.9894\n",
            "Epoch 39/150\n",
            "60000/60000 [==============================] - 19s 314us/sample - loss: 0.0287 - acc: 0.9915 - val_loss: 0.0456 - val_acc: 0.9878\n",
            "Epoch 40/150\n",
            "60000/60000 [==============================] - 19s 324us/sample - loss: 0.0277 - acc: 0.9917 - val_loss: 0.0393 - val_acc: 0.9882\n",
            "Epoch 41/150\n",
            "60000/60000 [==============================] - 20s 330us/sample - loss: 0.0280 - acc: 0.9918 - val_loss: 0.0402 - val_acc: 0.9880\n",
            "Epoch 42/150\n",
            "60000/60000 [==============================] - 20s 335us/sample - loss: 0.0272 - acc: 0.9921 - val_loss: 0.0381 - val_acc: 0.9892\n",
            "Epoch 43/150\n",
            "60000/60000 [==============================] - 20s 327us/sample - loss: 0.0269 - acc: 0.9923 - val_loss: 0.0422 - val_acc: 0.9876\n",
            "Epoch 44/150\n",
            "60000/60000 [==============================] - 19s 325us/sample - loss: 0.0262 - acc: 0.9923 - val_loss: 0.0411 - val_acc: 0.9886\n",
            "Epoch 45/150\n",
            "60000/60000 [==============================] - 20s 325us/sample - loss: 0.0264 - acc: 0.9918 - val_loss: 0.0392 - val_acc: 0.9892\n",
            "Epoch 46/150\n",
            "60000/60000 [==============================] - 19s 324us/sample - loss: 0.0266 - acc: 0.9922 - val_loss: 0.0451 - val_acc: 0.9880\n",
            "Epoch 47/150\n",
            "60000/60000 [==============================] - 19s 316us/sample - loss: 0.0262 - acc: 0.9920 - val_loss: 0.0467 - val_acc: 0.9876\n",
            "Epoch 48/150\n",
            "60000/60000 [==============================] - 19s 317us/sample - loss: 0.0259 - acc: 0.9926 - val_loss: 0.0393 - val_acc: 0.9876\n",
            "Epoch 49/150\n",
            "60000/60000 [==============================] - 19s 312us/sample - loss: 0.0255 - acc: 0.9926 - val_loss: 0.0412 - val_acc: 0.9870\n",
            "Epoch 50/150\n",
            "60000/60000 [==============================] - 19s 312us/sample - loss: 0.0255 - acc: 0.9928 - val_loss: 0.0376 - val_acc: 0.9890\n",
            "Epoch 51/150\n",
            "60000/60000 [==============================] - 19s 313us/sample - loss: 0.0247 - acc: 0.9926 - val_loss: 0.0418 - val_acc: 0.9882\n",
            "Epoch 52/150\n",
            "60000/60000 [==============================] - 19s 317us/sample - loss: 0.0249 - acc: 0.9928 - val_loss: 0.0431 - val_acc: 0.9878\n",
            "Epoch 53/150\n",
            "60000/60000 [==============================] - 19s 317us/sample - loss: 0.0244 - acc: 0.9928 - val_loss: 0.0411 - val_acc: 0.9886\n",
            "Epoch 54/150\n",
            "60000/60000 [==============================] - 20s 327us/sample - loss: 0.0240 - acc: 0.9926 - val_loss: 0.0411 - val_acc: 0.9878\n",
            "Epoch 55/150\n",
            "60000/60000 [==============================] - 19s 318us/sample - loss: 0.0244 - acc: 0.9930 - val_loss: 0.0429 - val_acc: 0.9882\n",
            "Epoch 56/150\n",
            "60000/60000 [==============================] - 19s 323us/sample - loss: 0.0245 - acc: 0.9929 - val_loss: 0.0396 - val_acc: 0.9878\n",
            "Epoch 57/150\n",
            "60000/60000 [==============================] - 20s 327us/sample - loss: 0.0246 - acc: 0.9930 - val_loss: 0.0427 - val_acc: 0.9872\n",
            "Epoch 58/150\n",
            "60000/60000 [==============================] - 20s 328us/sample - loss: 0.0237 - acc: 0.9932 - val_loss: 0.0531 - val_acc: 0.9854\n",
            "Epoch 59/150\n",
            "60000/60000 [==============================] - 19s 322us/sample - loss: 0.0240 - acc: 0.9929 - val_loss: 0.0463 - val_acc: 0.9872\n",
            "Epoch 60/150\n",
            "60000/60000 [==============================] - 19s 319us/sample - loss: 0.0236 - acc: 0.9933 - val_loss: 0.0434 - val_acc: 0.9880\n",
            "Epoch 61/150\n",
            "60000/60000 [==============================] - 19s 315us/sample - loss: 0.0236 - acc: 0.9932 - val_loss: 0.0463 - val_acc: 0.9872\n",
            "Epoch 62/150\n",
            "60000/60000 [==============================] - 19s 319us/sample - loss: 0.0235 - acc: 0.9930 - val_loss: 0.0471 - val_acc: 0.9876\n",
            "Epoch 63/150\n",
            "60000/60000 [==============================] - 19s 314us/sample - loss: 0.0230 - acc: 0.9934 - val_loss: 0.0436 - val_acc: 0.9886\n",
            "Epoch 64/150\n",
            "60000/60000 [==============================] - 19s 313us/sample - loss: 0.0234 - acc: 0.9935 - val_loss: 0.0480 - val_acc: 0.9872\n",
            "Epoch 65/150\n",
            "60000/60000 [==============================] - 19s 318us/sample - loss: 0.0231 - acc: 0.9931 - val_loss: 0.0531 - val_acc: 0.9878\n",
            "Epoch 66/150\n",
            "60000/60000 [==============================] - 19s 318us/sample - loss: 0.0230 - acc: 0.9933 - val_loss: 0.0476 - val_acc: 0.9868\n",
            "Epoch 67/150\n",
            "60000/60000 [==============================] - 19s 316us/sample - loss: 0.0224 - acc: 0.9934 - val_loss: 0.0466 - val_acc: 0.9884\n",
            "Epoch 68/150\n",
            "60000/60000 [==============================] - 19s 313us/sample - loss: 0.0229 - acc: 0.9936 - val_loss: 0.0456 - val_acc: 0.9878\n",
            "Epoch 69/150\n",
            "60000/60000 [==============================] - 19s 312us/sample - loss: 0.0219 - acc: 0.9933 - val_loss: 0.0522 - val_acc: 0.9876\n",
            "Epoch 70/150\n",
            "60000/60000 [==============================] - 20s 326us/sample - loss: 0.0227 - acc: 0.9933 - val_loss: 0.0463 - val_acc: 0.9878\n",
            "Epoch 71/150\n",
            "60000/60000 [==============================] - 19s 311us/sample - loss: 0.0222 - acc: 0.9938 - val_loss: 0.0514 - val_acc: 0.9874\n",
            "Epoch 72/150\n",
            "60000/60000 [==============================] - 19s 312us/sample - loss: 0.0221 - acc: 0.9934 - val_loss: 0.0462 - val_acc: 0.9892\n",
            "Epoch 73/150\n",
            "60000/60000 [==============================] - 19s 313us/sample - loss: 0.0218 - acc: 0.9936 - val_loss: 0.0495 - val_acc: 0.9858\n",
            "Epoch 74/150\n",
            "60000/60000 [==============================] - 19s 324us/sample - loss: 0.0221 - acc: 0.9939 - val_loss: 0.0469 - val_acc: 0.9872\n",
            "Epoch 75/150\n",
            "60000/60000 [==============================] - 19s 323us/sample - loss: 0.0220 - acc: 0.9938 - val_loss: 0.0482 - val_acc: 0.9878\n",
            "Epoch 76/150\n",
            "60000/60000 [==============================] - 20s 327us/sample - loss: 0.0216 - acc: 0.9938 - val_loss: 0.0495 - val_acc: 0.9878\n",
            "Epoch 77/150\n",
            "60000/60000 [==============================] - 19s 319us/sample - loss: 0.0222 - acc: 0.9938 - val_loss: 0.0469 - val_acc: 0.9876\n",
            "Epoch 78/150\n",
            "60000/60000 [==============================] - 20s 325us/sample - loss: 0.0206 - acc: 0.9943 - val_loss: 0.0569 - val_acc: 0.9884\n",
            "Epoch 79/150\n",
            "60000/60000 [==============================] - 20s 330us/sample - loss: 0.0216 - acc: 0.9940 - val_loss: 0.0550 - val_acc: 0.9862\n",
            "Epoch 80/150\n",
            "60000/60000 [==============================] - 20s 326us/sample - loss: 0.0209 - acc: 0.9942 - val_loss: 0.0502 - val_acc: 0.9880\n",
            "Epoch 81/150\n",
            "60000/60000 [==============================] - 20s 327us/sample - loss: 0.0219 - acc: 0.9937 - val_loss: 0.0590 - val_acc: 0.9864\n",
            "Epoch 82/150\n",
            "60000/60000 [==============================] - 20s 329us/sample - loss: 0.0215 - acc: 0.9938 - val_loss: 0.0573 - val_acc: 0.9868\n",
            "Epoch 83/150\n",
            "60000/60000 [==============================] - 20s 329us/sample - loss: 0.0212 - acc: 0.9942 - val_loss: 0.0468 - val_acc: 0.9876\n",
            "Epoch 84/150\n",
            "60000/60000 [==============================] - 20s 329us/sample - loss: 0.0205 - acc: 0.9943 - val_loss: 0.0602 - val_acc: 0.9858\n",
            "Epoch 85/150\n",
            "60000/60000 [==============================] - 20s 329us/sample - loss: 0.0208 - acc: 0.9941 - val_loss: 0.0564 - val_acc: 0.9870\n",
            "Epoch 86/150\n",
            "60000/60000 [==============================] - 20s 337us/sample - loss: 0.0208 - acc: 0.9941 - val_loss: 0.0548 - val_acc: 0.9872\n",
            "Epoch 87/150\n",
            "60000/60000 [==============================] - 20s 325us/sample - loss: 0.0203 - acc: 0.9944 - val_loss: 0.0542 - val_acc: 0.9872\n",
            "Epoch 88/150\n",
            "60000/60000 [==============================] - 19s 321us/sample - loss: 0.0201 - acc: 0.9940 - val_loss: 0.0522 - val_acc: 0.9876\n",
            "Epoch 89/150\n",
            "60000/60000 [==============================] - 19s 319us/sample - loss: 0.0201 - acc: 0.9941 - val_loss: 0.0538 - val_acc: 0.9896\n",
            "Epoch 90/150\n",
            "60000/60000 [==============================] - 19s 323us/sample - loss: 0.0204 - acc: 0.9941 - val_loss: 0.0558 - val_acc: 0.9878\n",
            "Epoch 91/150\n",
            "60000/60000 [==============================] - 19s 315us/sample - loss: 0.0209 - acc: 0.9941 - val_loss: 0.0542 - val_acc: 0.9874\n",
            "Epoch 92/150\n",
            "60000/60000 [==============================] - 19s 315us/sample - loss: 0.0204 - acc: 0.9944 - val_loss: 0.0607 - val_acc: 0.9874\n",
            "Epoch 93/150\n",
            "60000/60000 [==============================] - 19s 312us/sample - loss: 0.0202 - acc: 0.9943 - val_loss: 0.0564 - val_acc: 0.9864\n",
            "Epoch 94/150\n",
            "60000/60000 [==============================] - 19s 311us/sample - loss: 0.0205 - acc: 0.9941 - val_loss: 0.0558 - val_acc: 0.9876\n",
            "Epoch 95/150\n",
            "60000/60000 [==============================] - 19s 313us/sample - loss: 0.0200 - acc: 0.9945 - val_loss: 0.0677 - val_acc: 0.9856\n",
            "Epoch 96/150\n",
            "60000/60000 [==============================] - 19s 311us/sample - loss: 0.0203 - acc: 0.9942 - val_loss: 0.0569 - val_acc: 0.9876\n",
            "Epoch 97/150\n",
            "60000/60000 [==============================] - 19s 312us/sample - loss: 0.0202 - acc: 0.9945 - val_loss: 0.0540 - val_acc: 0.9886\n",
            "Epoch 98/150\n",
            "60000/60000 [==============================] - 19s 313us/sample - loss: 0.0199 - acc: 0.9944 - val_loss: 0.0564 - val_acc: 0.9880\n",
            "Epoch 99/150\n",
            "60000/60000 [==============================] - 19s 311us/sample - loss: 0.0202 - acc: 0.9944 - val_loss: 0.0663 - val_acc: 0.9850\n",
            "Epoch 100/150\n",
            "60000/60000 [==============================] - 19s 312us/sample - loss: 0.0201 - acc: 0.9940 - val_loss: 0.0665 - val_acc: 0.9858\n",
            "Epoch 101/150\n",
            "60000/60000 [==============================] - 19s 314us/sample - loss: 0.0197 - acc: 0.9943 - val_loss: 0.0583 - val_acc: 0.9874\n",
            "Epoch 102/150\n",
            "60000/60000 [==============================] - 19s 314us/sample - loss: 0.0201 - acc: 0.9944 - val_loss: 0.0596 - val_acc: 0.9888\n",
            "Epoch 103/150\n",
            "60000/60000 [==============================] - 19s 322us/sample - loss: 0.0201 - acc: 0.9944 - val_loss: 0.0663 - val_acc: 0.9856\n",
            "Epoch 104/150\n",
            "60000/60000 [==============================] - 19s 314us/sample - loss: 0.0194 - acc: 0.9946 - val_loss: 0.0672 - val_acc: 0.9862\n",
            "Epoch 105/150\n",
            "60000/60000 [==============================] - 19s 312us/sample - loss: 0.0196 - acc: 0.9948 - val_loss: 0.0599 - val_acc: 0.9866\n",
            "Epoch 106/150\n",
            "60000/60000 [==============================] - 19s 317us/sample - loss: 0.0201 - acc: 0.9944 - val_loss: 0.0612 - val_acc: 0.9872\n",
            "Epoch 107/150\n",
            "60000/60000 [==============================] - 19s 313us/sample - loss: 0.0199 - acc: 0.9945 - val_loss: 0.0665 - val_acc: 0.9860\n",
            "Epoch 108/150\n",
            "60000/60000 [==============================] - 19s 313us/sample - loss: 0.0192 - acc: 0.9948 - val_loss: 0.0691 - val_acc: 0.9864\n",
            "Epoch 109/150\n",
            "60000/60000 [==============================] - 19s 314us/sample - loss: 0.0200 - acc: 0.9949 - val_loss: 0.0722 - val_acc: 0.9872\n",
            "Epoch 110/150\n",
            "60000/60000 [==============================] - 19s 312us/sample - loss: 0.0198 - acc: 0.9944 - val_loss: 0.0676 - val_acc: 0.9860\n",
            "Epoch 111/150\n",
            "60000/60000 [==============================] - 19s 313us/sample - loss: 0.0198 - acc: 0.9947 - val_loss: 0.0673 - val_acc: 0.9858\n",
            "Epoch 112/150\n",
            "60000/60000 [==============================] - 19s 315us/sample - loss: 0.0192 - acc: 0.9948 - val_loss: 0.0645 - val_acc: 0.9864\n",
            "Epoch 113/150\n",
            "60000/60000 [==============================] - 19s 312us/sample - loss: 0.0189 - acc: 0.9945 - val_loss: 0.0677 - val_acc: 0.9874\n",
            "Epoch 114/150\n",
            "60000/60000 [==============================] - 19s 313us/sample - loss: 0.0190 - acc: 0.9948 - val_loss: 0.0631 - val_acc: 0.9862\n",
            "Epoch 115/150\n",
            "60000/60000 [==============================] - 19s 311us/sample - loss: 0.0190 - acc: 0.9947 - val_loss: 0.0661 - val_acc: 0.9862\n",
            "Epoch 116/150\n",
            "60000/60000 [==============================] - 19s 313us/sample - loss: 0.0191 - acc: 0.9947 - val_loss: 0.0635 - val_acc: 0.9878\n",
            "Epoch 117/150\n",
            "60000/60000 [==============================] - 19s 314us/sample - loss: 0.0192 - acc: 0.9948 - val_loss: 0.0725 - val_acc: 0.9860\n",
            "Epoch 118/150\n",
            "60000/60000 [==============================] - 19s 312us/sample - loss: 0.0188 - acc: 0.9949 - val_loss: 0.0648 - val_acc: 0.9872\n",
            "Epoch 119/150\n",
            "60000/60000 [==============================] - 19s 322us/sample - loss: 0.0187 - acc: 0.9948 - val_loss: 0.0728 - val_acc: 0.9866\n",
            "Epoch 120/150\n",
            "60000/60000 [==============================] - 19s 314us/sample - loss: 0.0196 - acc: 0.9947 - val_loss: 0.0732 - val_acc: 0.9870\n",
            "Epoch 121/150\n",
            "60000/60000 [==============================] - 19s 317us/sample - loss: 0.0190 - acc: 0.9951 - val_loss: 0.0669 - val_acc: 0.9858\n",
            "Epoch 122/150\n",
            "60000/60000 [==============================] - 19s 318us/sample - loss: 0.0190 - acc: 0.9949 - val_loss: 0.0698 - val_acc: 0.9864\n",
            "Epoch 123/150\n",
            "60000/60000 [==============================] - 19s 314us/sample - loss: 0.0189 - acc: 0.9947 - val_loss: 0.0693 - val_acc: 0.9856\n",
            "Epoch 124/150\n",
            "60000/60000 [==============================] - 19s 315us/sample - loss: 0.0184 - acc: 0.9948 - val_loss: 0.0727 - val_acc: 0.9856\n",
            "Epoch 125/150\n",
            "60000/60000 [==============================] - 19s 313us/sample - loss: 0.0189 - acc: 0.9950 - val_loss: 0.0694 - val_acc: 0.9868\n",
            "Epoch 126/150\n",
            "60000/60000 [==============================] - 19s 314us/sample - loss: 0.0183 - acc: 0.9948 - val_loss: 0.0691 - val_acc: 0.9864\n",
            "Epoch 127/150\n",
            "60000/60000 [==============================] - 19s 316us/sample - loss: 0.0190 - acc: 0.9948 - val_loss: 0.0685 - val_acc: 0.9866\n",
            "Epoch 128/150\n",
            "60000/60000 [==============================] - 19s 319us/sample - loss: 0.0187 - acc: 0.9946 - val_loss: 0.0725 - val_acc: 0.9864\n",
            "Epoch 129/150\n",
            "60000/60000 [==============================] - 19s 315us/sample - loss: 0.0186 - acc: 0.9949 - val_loss: 0.0760 - val_acc: 0.9868\n",
            "Epoch 130/150\n",
            "60000/60000 [==============================] - 19s 315us/sample - loss: 0.0186 - acc: 0.9948 - val_loss: 0.0719 - val_acc: 0.9872\n",
            "Epoch 131/150\n",
            "60000/60000 [==============================] - 19s 320us/sample - loss: 0.0178 - acc: 0.9952 - val_loss: 0.0694 - val_acc: 0.9872\n",
            "Epoch 132/150\n",
            "60000/60000 [==============================] - 19s 317us/sample - loss: 0.0185 - acc: 0.9951 - val_loss: 0.0690 - val_acc: 0.9864\n",
            "Epoch 133/150\n",
            "60000/60000 [==============================] - 19s 316us/sample - loss: 0.0181 - acc: 0.9950 - val_loss: 0.0767 - val_acc: 0.9856\n",
            "Epoch 134/150\n",
            "60000/60000 [==============================] - 19s 317us/sample - loss: 0.0183 - acc: 0.9950 - val_loss: 0.0692 - val_acc: 0.9868\n",
            "Epoch 135/150\n",
            "60000/60000 [==============================] - 19s 324us/sample - loss: 0.0181 - acc: 0.9951 - val_loss: 0.0726 - val_acc: 0.9868\n",
            "Epoch 136/150\n",
            "60000/60000 [==============================] - 19s 321us/sample - loss: 0.0175 - acc: 0.9952 - val_loss: 0.0777 - val_acc: 0.9866\n",
            "Epoch 137/150\n",
            "60000/60000 [==============================] - 19s 313us/sample - loss: 0.0176 - acc: 0.9953 - val_loss: 0.0774 - val_acc: 0.9860\n",
            "Epoch 138/150\n",
            "60000/60000 [==============================] - 18s 308us/sample - loss: 0.0181 - acc: 0.9951 - val_loss: 0.0902 - val_acc: 0.9840\n",
            "Epoch 139/150\n",
            "60000/60000 [==============================] - 19s 323us/sample - loss: 0.0182 - acc: 0.9952 - val_loss: 0.0718 - val_acc: 0.9858\n",
            "Epoch 140/150\n",
            "60000/60000 [==============================] - 19s 314us/sample - loss: 0.0187 - acc: 0.9947 - val_loss: 0.0812 - val_acc: 0.9862\n",
            "Epoch 141/150\n",
            "60000/60000 [==============================] - 19s 312us/sample - loss: 0.0175 - acc: 0.9953 - val_loss: 0.0795 - val_acc: 0.9858\n",
            "Epoch 142/150\n",
            "60000/60000 [==============================] - 19s 311us/sample - loss: 0.0180 - acc: 0.9952 - val_loss: 0.0815 - val_acc: 0.9868\n",
            "Epoch 143/150\n",
            "60000/60000 [==============================] - 19s 309us/sample - loss: 0.0179 - acc: 0.9952 - val_loss: 0.0815 - val_acc: 0.9868\n",
            "Epoch 144/150\n",
            "60000/60000 [==============================] - 18s 306us/sample - loss: 0.0178 - acc: 0.9954 - val_loss: 0.0821 - val_acc: 0.9860\n",
            "Epoch 145/150\n",
            "60000/60000 [==============================] - 18s 305us/sample - loss: 0.0179 - acc: 0.9949 - val_loss: 0.0799 - val_acc: 0.9868\n",
            "Epoch 146/150\n",
            "10144/60000 [====>.........................] - ETA: 14s - loss: 0.0129 - acc: 0.9959"
          ],
          "name": "stdout"
        }
      ]
    },
    {
      "cell_type": "code",
      "metadata": {
        "id": "AQHhqTR682cl",
        "colab_type": "code",
        "colab": {}
      },
      "source": [
        "histplot(history)"
      ],
      "execution_count": 0,
      "outputs": []
    },
    {
      "cell_type": "markdown",
      "metadata": {
        "id": "yyr9gV7m82cq",
        "colab_type": "text"
      },
      "source": [
        "## Data augmentation\n",
        "\n",
        "Data augmentation is a technique to artificially create new training data from existing training data by rotating, obscuring or other transformations in the original data. "
      ]
    },
    {
      "cell_type": "code",
      "metadata": {
        "id": "MpXfJsPh82cr",
        "colab_type": "code",
        "colab": {}
      },
      "source": [
        "from tensorflow.keras.preprocessing.image import ImageDataGenerator\n",
        "\n",
        "datagen = ImageDataGenerator(\n",
        "    rotation_range=10,\n",
        "    width_shift_range=0.05,\n",
        "    height_shift_range=0.05,\n",
        "    shear_range=20.0,\n",
        "    zoom_range=0.05)\n",
        "\n",
        "#datagen.fit(x_train)  # only required if normalizing"
      ],
      "execution_count": 0,
      "outputs": []
    },
    {
      "cell_type": "code",
      "metadata": {
        "id": "_ECYoV_982cv",
        "colab_type": "code",
        "colab": {}
      },
      "source": [
        "gen = datagen.flow(x_train, y_train, batch_size=1)"
      ],
      "execution_count": 0,
      "outputs": []
    },
    {
      "cell_type": "code",
      "metadata": {
        "id": "muEjOdfS82cy",
        "colab_type": "code",
        "colab": {}
      },
      "source": [
        "# run this several times to see more augmented examples\n",
        "i = 3\n",
        "fig, axarr = plt.subplots(1, 5)\n",
        "for ax in axarr:\n",
        "    img = gen[i][0][0, : , :, 0]\n",
        "    ax.imshow(img, cmap='gray');\n",
        "    ax.axis('off')\n",
        "print('label =', gen[i][1][0].argmax())"
      ],
      "execution_count": 0,
      "outputs": []
    },
    {
      "cell_type": "code",
      "metadata": {
        "id": "ZTtQaol582c1",
        "colab_type": "code",
        "colab": {}
      },
      "source": [
        "# Reinitialise model\n",
        "cnnmodel.load_weights('/tmp/cnnmodel_init_weights.tf')"
      ],
      "execution_count": 0,
      "outputs": []
    },
    {
      "cell_type": "code",
      "metadata": {
        "id": "2ucOYkpk82c4",
        "colab_type": "code",
        "colab": {}
      },
      "source": [
        "cnnmodel.compile(loss='categorical_crossentropy',\n",
        "                 optimizer=RMSprop(),\n",
        "                 metrics=['accuracy'])"
      ],
      "execution_count": 0,
      "outputs": []
    },
    {
      "cell_type": "code",
      "metadata": {
        "id": "e3K-HMSq82c5",
        "colab_type": "code",
        "colab": {}
      },
      "source": [
        "# fits the model on batches with real-time data augmentation:\n",
        "# the accuracy continues to (slowly) rise, due to the augmentation\n",
        "history = cnnmodel.fit_generator(datagen.flow(x_train, y_train, batch_size=batch_size), \n",
        "                                 epochs=10*epochs,\n",
        "                                 verbose=1,\n",
        "                                 validation_data=(x_test, y_test))"
      ],
      "execution_count": 0,
      "outputs": []
    },
    {
      "cell_type": "code",
      "metadata": {
        "id": "u32cUD-g82c7",
        "colab_type": "code",
        "colab": {}
      },
      "source": [
        "histplot(history)"
      ],
      "execution_count": 0,
      "outputs": []
    },
    {
      "cell_type": "code",
      "metadata": {
        "id": "-B2MFMWN82c9",
        "colab_type": "code",
        "colab": {}
      },
      "source": [
        ""
      ],
      "execution_count": 0,
      "outputs": []
    },
    {
      "cell_type": "markdown",
      "metadata": {
        "id": "4bzsUCe0r-IN",
        "colab_type": "text"
      },
      "source": [
        "\n",
        "## THINGS to play with\n",
        "\n",
        "1.   Change the NN architecture\n",
        "2.   Change the training epochs\n",
        "3.   Change the train/test splitting\n",
        "\n",
        "\n",
        "\n",
        "\n",
        "\n"
      ]
    },
    {
      "cell_type": "code",
      "metadata": {
        "id": "dw-PS686sVfb",
        "colab_type": "code",
        "colab": {}
      },
      "source": [
        ""
      ],
      "execution_count": 0,
      "outputs": []
    }
  ]
}